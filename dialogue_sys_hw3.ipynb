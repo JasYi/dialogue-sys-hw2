{
 "cells": [
  {
   "cell_type": "markdown",
   "metadata": {},
   "source": [
    "# Using LLMs to annotate dialogue acts"
   ]
  },
  {
   "cell_type": "markdown",
   "metadata": {},
   "source": [
    "## Processing the data"
   ]
  },
  {
   "cell_type": "code",
   "execution_count": 23,
   "metadata": {},
   "outputs": [],
   "source": [
    "import pandas as pd\n"
   ]
  },
  {
   "cell_type": "code",
   "execution_count": 24,
   "metadata": {},
   "outputs": [
    {
     "name": "stdout",
     "output_type": "stream",
     "text": [
      "              swda_filename ptb_basename  conversation_no  transcript_index  \\\n",
      "0  sw12utt/sw_1200_2121.utt     2/sw2121             2121                 0   \n",
      "1  sw12utt/sw_1200_2121.utt     2/sw2121             2121                 1   \n",
      "2  sw12utt/sw_1200_2121.utt     2/sw2121             2121                 2   \n",
      "3  sw12utt/sw_1200_2121.utt     2/sw2121             2121                 3   \n",
      "4  sw12utt/sw_1200_2121.utt     2/sw2121             2121                 4   \n",
      "\n",
      "  act_tag caller  utterance_index  subutterance_index  \\\n",
      "0       o      A                1                   1   \n",
      "1      qw      A                1                   2   \n",
      "2      ^h      B                2                   1   \n",
      "3      sv      B                2                   2   \n",
      "4      qo      B                2                   3   \n",
      "\n",
      "                                                text  \\\n",
      "0                                  Okay, {F uh, }  /   \n",
      "1  could you tell me what you think contributes m...   \n",
      "2                    {D Well, } it's hard to say.  /   \n",
      "3  {E I mean, } while it's certainly the case tha...   \n",
      "4                               What do you think? /   \n",
      "\n",
      "                                                 pos  \\\n",
      "0                              Okay/UH ,/, uh/UH ,/,   \n",
      "1  could/MD you/PRP tell/VB me/PRP what/WP you/PR...   \n",
      "2  Well/UH ,/, it/PRP 's/BES hard/JJ to/TO say/VB...   \n",
      "3  I/PRP mean/VBP ,/, while/IN it/PRP 's/BES cert...   \n",
      "4                What/WP do/VBP you/PRP think/VB ?/.   \n",
      "\n",
      "                                               trees ptb_treenumbers  \n",
      "0  (INTJ (INTJ (UH Okay)) (, ,) (INTJ (UH uh)) (,...               1  \n",
      "1  (SQ (MD could) (NP-SBJ (PRP you)) (VP (VB tell...               2  \n",
      "2  (S (INTJ (UH Well)) (, ,) (NP-SBJ (PRP it)) (V...               4  \n",
      "3  (S (PRN (S (NP-SBJ (PRP I)) (VP (VBP mean))) (...               5  \n",
      "4  (SBARQ (WHNP-1 (WP What)) (SQ (VBP do) (NP-SBJ...               6  \n"
     ]
    }
   ],
   "source": [
    "dialogue1 = pd.read_csv('swda\\swda\\sw12utt\\sw_1200_2121.utt.csv')\n",
    "dialogue2 = pd.read_csv('swda\\swda\\sw12utt\\sw_1201_2131.utt.csv')\n",
    "dialogue3 = pd.read_csv('swda\\swda\\sw12utt\\sw_1202_2151.utt.csv')\n",
    "\n",
    "print(dialogue1.head())\n"
   ]
  },
  {
   "cell_type": "code",
   "execution_count": 25,
   "metadata": {},
   "outputs": [],
   "source": [
    "dialogue1_targets = dialogue1['act_tag']\n",
    "dialogue2_targets = dialogue2['act_tag']\n",
    "dialogue3_targets = dialogue3['act_tag']\n",
    "\n",
    "dialogue1_res = dialogue1[['caller', 'text', 'act_tag']]\n",
    "dialogue2_res = dialogue2[['caller', 'text', 'act_tag']]\n",
    "dialogue3_res = dialogue3[['caller', 'text', 'act_tag']]\n",
    "\n",
    "dialogue1 = dialogue1[['caller', 'text']]\n",
    "dialogue2 = dialogue2[['caller', 'text']]\n",
    "dialogue3 = dialogue3[['caller', 'text']]\n",
    "\n"
   ]
  },
  {
   "cell_type": "code",
   "execution_count": 26,
   "metadata": {},
   "outputs": [
    {
     "name": "stdout",
     "output_type": "stream",
     "text": [
      "  caller                                               text\n",
      "0      A                                  Okay, {F uh, }  /\n",
      "1      A  could you tell me what you think contributes m...\n",
      "2      B                    {D Well, } it's hard to say.  /\n",
      "3      B  {E I mean, } while it's certainly the case tha...\n",
      "4      B                               What do you think? /\n",
      "0     o\n",
      "1    qw\n",
      "2    ^h\n",
      "3    sv\n",
      "4    qo\n",
      "Name: act_tag, dtype: object\n"
     ]
    }
   ],
   "source": [
    "print(dialogue1.head())\n",
    "print(dialogue1_targets.head())"
   ]
  },
  {
   "cell_type": "markdown",
   "metadata": {},
   "source": [
    "## OpenAI Setup"
   ]
  },
  {
   "cell_type": "code",
   "execution_count": 27,
   "metadata": {},
   "outputs": [],
   "source": [
    "from dotenv import load_dotenv\n",
    "import os\n",
    "\n",
    "# Load environment variables from .env file\n",
    "load_dotenv()\n",
    "\n",
    "# Example of accessing an environment variable\n",
    "openai_key = os.getenv('OPENAI_API_KEY')"
   ]
  },
  {
   "cell_type": "code",
   "execution_count": 28,
   "metadata": {},
   "outputs": [
    {
     "name": "stdout",
     "output_type": "stream",
     "text": [
      "Silent circuits hum,  \n",
      "Thoughts born from electric dreams,  \n",
      "Mind of code and light.\n"
     ]
    }
   ],
   "source": [
    "from openai import OpenAI\n",
    "client = OpenAI(api_key=openai_key)\n",
    "completion = client.chat.completions.create(\n",
    "    model=\"gpt-4o-mini\",\n",
    "    messages=[\n",
    "        {\"role\": \"user\", \"content\": \"write a haiku about ai\"}\n",
    "    ],\n",
    "    temperature=0.2\n",
    ")\n",
    "\n",
    "print(completion.choices[0].message.content)"
   ]
  },
  {
   "cell_type": "code",
   "execution_count": 29,
   "metadata": {},
   "outputs": [],
   "source": [
    "def test_prompt(prompt):\n",
    "    print(\"using prompt\", prompt)\n",
    "    \n",
    "    print(\"generating for dialogue 1\")\n",
    "    dialogue1_comp = client.chat.completions.create(\n",
    "        model=\"gpt-4o-mini\",\n",
    "        messages=[\n",
    "            {\"role\": \"system\", \"content\": prompt},\n",
    "            {\"role\": \"user\", \"content\": dialogue1.to_string()}\n",
    "        ]\n",
    "    )\n",
    "\n",
    "    print(\"generating for dialogue 2\")\n",
    "    dialogue2_comp = client.chat.completions.create(\n",
    "        model=\"gpt-4o-mini\",\n",
    "        messages=[\n",
    "            {\"role\": \"system\", \"content\": prompt},\n",
    "            {\"role\": \"user\", \"content\": dialogue2.to_string()}\n",
    "        ]\n",
    "    )\n",
    "\n",
    "    print(\"generating for dialogue 3\")\n",
    "    dialogue3_comp = client.chat.completions.create(\n",
    "        model=\"gpt-4o-mini\",\n",
    "        messages=[\n",
    "            {\"role\": \"system\", \"content\": prompt},\n",
    "            {\"role\": \"user\", \"content\": dialogue3.to_string()}\n",
    "        ]\n",
    "    )\n",
    "\n",
    "    d1_res = dialogue1_comp.choices[0].message.content\n",
    "    \n",
    "    d2_res = dialogue2_comp.choices[0].message.content\n",
    "    \n",
    "    d3_res = dialogue3_comp.choices[0].message.content\n",
    "    \n",
    "    def reduce_res(res, dialogue):\n",
    "        out = []\n",
    "        print(\"curr len\", len(res.split(\",\")))\n",
    "        if len(res.split(\",\")) < len(dialogue):\n",
    "            out = res.split(\",\")\n",
    "            out.extend([\"\"] * (len(dialogue) - len(res.split(\",\"))))\n",
    "        elif len(res.split(\",\")) > len(dialogue):\n",
    "            out = res.split(\",\")[:len(dialogue)]\n",
    "        return out\n",
    "    \n",
    "    return reduce_res(d1_res, dialogue1_res), reduce_res(d2_res, dialogue2_res), reduce_res(d3_res, dialogue3_res)"
   ]
  },
  {
   "cell_type": "markdown",
   "metadata": {},
   "source": [
    "## Task 1, zero-shot no list of dialogue act tags"
   ]
  },
  {
   "cell_type": "code",
   "execution_count": 30,
   "metadata": {},
   "outputs": [],
   "source": [
    "task1_prompt = '''\n",
    "You are are a classifier that identifies dialogue act tags for a given dialogue.\n",
    "The dialogue is between two speakers, A and B.\n",
    "Return only the dialouge acts of speaker A and B in order of appearance.\n",
    "Separate the dialogue acts of speaker A and B with a comma.\n",
    "The user will send a table with the columns 'caller' and 'text'.\n",
    "The caller column will have the values 'A' and 'B' and designates which speaker is speaking.\n",
    "The text column will have the dialogue that speaker 'A' or 'B' is saying.\n",
    "Output exactly one dialogue act per line.\n",
    "'''"
   ]
  },
  {
   "cell_type": "code",
   "execution_count": 31,
   "metadata": {},
   "outputs": [
    {
     "name": "stdout",
     "output_type": "stream",
     "text": [
      "using prompt \n",
      "You are are a classifier that identifies dialogue act tags for a given dialogue.\n",
      "The dialogue is between two speakers, A and B.\n",
      "Return only the dialouge acts of speaker A and B in order of appearance.\n",
      "Separate the dialogue acts of speaker A and B with a comma.\n",
      "The user will send a table with the columns 'caller' and 'text'.\n",
      "The caller column will have the values 'A' and 'B' and designates which speaker is speaking.\n",
      "The text column will have the dialogue that speaker 'A' or 'B' is saying.\n",
      "Output exactly one dialogue act per line.\n",
      "\n",
      "generating for dialogue 1\n",
      "generating for dialogue 2\n",
      "generating for dialogue 3\n",
      "curr len 428\n",
      "curr len 176\n",
      "curr len 79\n"
     ]
    }
   ],
   "source": [
    "d1_t1_res, d2_t1_res, d3_t1_res = test_prompt(task1_prompt)"
   ]
  },
  {
   "cell_type": "code",
   "execution_count": 32,
   "metadata": {},
   "outputs": [
    {
     "name": "stdout",
     "output_type": "stream",
     "text": [
      "['Okay', ' \\nQuestion', ' \\nAcknowledgment', ' \\nStatement', ' \\nQuestion', ' \\nStatement', ' \\nStatement', ' \\nAcknowledgment', ' \\nStatement', ' \\nQuestion', ' \\nStatement', ' \\nStatement', ' \\nAcknowledgment', ' \\nStatement', ' \\nQuestion', ' \\nStatement', ' \\nStatement', ' \\nStatement', ' \\nStatement', ' \\nStatement', ' \\nStatement', ' \\nStatement', ' \\nStatement', ' \\nStatement', ' \\nStatement', ' \\nStatement', ' \\nAcknowledgment', ' \\nStatement', ' \\nStatement', ' \\nStatement', ' \\nStatement', ' \\nStatement', ' \\nAcknowledgment', ' \\nStatement', ' \\nStatement', ' \\nStatement', ' \\nStatement', ' \\nStatement', ' \\nStatement', ' \\nQuestion', ' \\nStatement', ' \\nAcknowledgment', ' \\nStatement', ' \\nStatement', ' \\nStatement', ' \\nStatement', ' \\nStatement', ' \\nAcknowledgment', ' \\nStatement', ' \\nAcknowledgment', ' \\nQuestion', ' \\nStatement', ' \\nStatement', ' \\nStatement', ' \\nStatement', ' \\nStatement', ' \\nAcknowledgment', ' \\nStatement', ' \\nAcknowledgment', ' \\nAcknowledgment', ' \\nAcknowledgment', ' \\nAcknowledgment', ' \\nAcknowledgment', ' \\nAcknowledgment', ' \\nAcknowledgment', ' \\nStatement', ' \\nStatement', ' \\nAcknowledgment', ' \\nStatement', ' \\nStatement', ' \\nStatement', ' \\nStatement', ' \\nStatement', ' \\nAcknowledgment', ' \\nAcknowledgment', ' \\nAcknowledgment', ' \\nStatement', ' \\nAcknowledgment', ' \\nAcknowledgment', ' \\nStatement', ' \\nAcknowledgment', ' \\nQuestion', ' \\nAcknowledgment', ' \\nStatement', ' \\nStatement', ' \\nAcknowledgment', ' \\nStatement', ' \\nAcknowledgment', ' \\nStatement', ' \\nStatement', ' \\nStatement', ' \\nStatement', ' \\nStatement', ' \\nAcknowledgment', ' \\nAcknowledgment', ' \\nStatement', ' \\nAcknowledgment', ' \\nStatement', ' \\nStatement', ' \\nStatement', ' \\nQuestion', ' \\nQuestion', ' \\nStatement', ' \\nStatement', ' \\nAcknowledgment', ' \\nStatement', ' \\nStatement', ' \\nStatement', ' \\nStatement', ' \\nStatement', ' \\nAcknowledgment', ' \\nStatement', ' \\nStatement', ' \\nAcknowledgment', ' \\nStatement', ' \\nStatement', ' \\nStatement', ' \\nStatement', ' \\nStatement', ' \\nStatement', ' \\nStatement', ' \\nStatement', ' \\nStatement', ' \\nStatement', ' \\nStatement', ' \\nStatement', ' \\nStatement', ' \\nStatement', ' \\nStatement', ' \\nAcknowledgment', ' \\nAcknowledgment', ' \\nStatement', ' \\nStatement', ' \\nStatement', ' \\nStatement', ' \\nStatement', ' \\nStatement', ' \\nAcknowledgment', ' \\nAcknowledgment', ' \\nAcknowledgment', ' \\nStatement', ' \\nStatement', ' \\nStatement', ' \\nStatement', ' \\nAcknowledgment', ' \\nAcknowledgment', ' \\nAcknowledgment', ' \\nAcknowledgment', ' \\nAcknowledgment', ' \\nStatement', ' \\nStatement', ' \\nStatement', ' \\nStatement', ' \\nAcknowledgment', ' \\nStatement', ' \\nStatement', ' \\nAcknowledgment', ' \\nAcknowledgment', ' \\nStatement', ' \\nStatement', ' \\nStatement', ' \\nStatement', ' \\nAcknowledgment', ' \\nStatement', ' \\nStatement', ' \\nStatement', ' \\nStatement', ' \\nStatement', ' \\nAcknowledgment', ' \\nAuthorization', ' \\nStatement', ' \\nStatement', ' \\nStatement', ' \\nAcknowledgment', ' \\nStatement', ' \\nStatement', ' \\nAcknowledgment', ' \\nAcknowledgment', ' \\nAcknowledgment', ' \\nStatement', ' \\nStatement', ' \\nStatement', ' \\nAcknowledgment', ' \\nStatement', ' \\nStatement', ' \\nStatement', ' \\nStatement', ' \\nQuestion', ' \\nStatement', ' \\nStatement', ' \\nStatement', ' \\nAcknowledgment', ' \\nStatement', ' \\nAcknowledgment', ' \\nStatement', ' \\nStatement', ' \\nStatement', ' \\nAcknowledgment', ' \\nStatement', ' \\nStatement', ' \\nStatement', ' \\nStatement', ' \\nStatement', ' \\nStatement', ' \\nAcknowledgment', ' \\nStatement', ' \\nStatement', ' \\nAcknowledgment', ' \\nStatement', ' \\nQuestion', ' \\nStatement', ' \\nStatement', ' \\nQuestion', ' \\nAcknowledgment', ' \\nStatement', ' \\nStatement', ' \\nStatement', ' \\nStatement', ' \\nStatement', ' \\nStatement', ' \\nStatement', ' \\nStatement', ' \\nStatement', ' \\nAcknowledgment', ' \\nAcknowledgment', ' \\nAcknowledgment', ' \\nStatement', ' \\nQuestion', ' \\nStatement', ' \\nAcknowledgment', ' \\nAcknowledgment', ' \\nStatement', ' \\nStatement', ' \\nStatement', ' \\nStatement', ' \\nStatement', ' \\nStatement', ' \\nStatement', ' \\nAcknowledgment', ' \\nStatement', ' \\nStatement', ' \\nQuestion', ' \\nStatement', ' \\nStatement', ' \\nAcknowledgment', ' \\nAcknowledgment', ' \\nStatement', ' \\nAcknowledgment', ' \\nStatement', ' \\nStatement', ' \\nStatement', ' \\nStatement', ' \\nAcknowledgment', ' \\nStatement', ' \\nStatement']\n",
      "['Request', ' Statement', ' Laughter', ' Agreement', ' Statement', ' Statement', ' Acknowledgment', ' Statement', ' Agreement', ' Agreement', ' Statement', ' Agreement', ' Statement', ' Statement', ' Agreement', ' Statement', ' Statement', ' Statement', ' Agreement', ' Agreement', ' Agreement', ' Acknowledgment', ' Acknowledgment', ' Statement', ' Agreement', ' Statement', ' Agreement', ' Statement', ' Statement', ' Agreement', ' Statement', ' Agreement', ' Statement', ' Acknowledgment', ' Statement', ' Statement', ' Acknowledgment', ' Laughter', ' Statement', ' Laughter', ' Statement', ' Acknowledgment', ' Acknowledgment', ' Laughter', ' Acknowledgment', ' Statement', ' Statement', ' Statement', ' Acknowledgment', ' Agreement', ' Agreement', ' Statement', ' Statement', ' Statement', ' Agreement', ' Statement', ' Statement', ' Statement', ' Acknowledgment', ' Statement', ' Statement', ' Statement', ' Statement', ' Statement', ' Explication', ' Agreement', ' Statement', ' Acknowledgment', ' Statement', ' Agreement', ' Agreement', ' Statement', ' Statement', ' Acknowledgment', ' Agreement', ' Agreement', ' Statement', ' Statement', ' Statement', ' Statement', ' Explication', ' Statement', ' Statement', ' Statement', ' Statement', ' Agreement', ' Acknowledgment', ' Statement', ' Laughter', ' Statement', ' Statement', ' Laughter', ' Laughter', ' Laughter', ' Statement', ' Laughter', ' Laughter', ' Statement', ' Agreement', ' Acknowledgment', ' Statement', ' Acknowledgment', ' Acknowledgment', ' Statement', ' Statement', ' Agreement', ' Acknowledgment', ' Statement', ' Agreement', ' Agreement', ' Statement', ' Statement', ' Statement', ' Statement', ' Acknowledgment', ' Laughter', ' Statement', ' Agreement', ' Laughter', ' Statement', ' Statement', ' Acknowledgment', ' Acknowledgment', ' Laughter', ' Statement', ' Statement', ' Statement', ' Acknowledgment', ' Acknowledgment', ' Laughter', ' Statement', ' Statement', ' Statement', ' Statement', ' Acknowledgment', ' Statement', ' Acknowledgment', ' Agreement', ' Agreement', ' Statement', ' Statement', ' Laughter', ' Agreement', ' Statement', ' Statement', ' Statement', ' Agreement', ' Statement', ' Statement', ' Laughter', ' Laughter', ' Agreement', ' Laughter', ' Statement', ' Statement', ' Acknowledgment', ' Acknowledgment', ' Acknowledgment', ' Statement', ' Statement', ' Acknowledgment', ' Statement', ' Acknowledgment', ' Statement', ' Statement', ' Statement', ' Agreement', ' Agreement', ' Statement', ' Laughter', ' Acknowledgment', ' Statement', ' Statement', ' Statement', ' Agreement', ' Statement.', '', '', '', '', '', '', '', '', '', '', '', '', '', '', '', '', '', '', '', '', '', '', '', '', '', '', '', '', '', '', '', '', '', '', '', '', '', '', '', '', '', '', '', '', '', '', '', '', '', '', '', '', '', '', '', '', '', '', '', '', '', '', '', '', '', '', '', '', '', '', '', '', '', '', '', '', '', '', '', '', '', '', '', '', '', '', '', '', '', '', '', '', '', '', '', '', '', '', '', '', '', '', '', '', '', '', '', '', '', '', '', '', '', '', '', '', '', '', '', '', '', '', '', '', '', '', '', '', '', '', '', '', '', '', '', '', '', '', '', '', '', '', '', '', '', '', '', '', '', '', '', '', '', '', '', '', '', '', '', '', '', '', '', '', '', '', '', '', '', '', '', '', '', '', '', '', '', '', '', '', '', '', '', '', '', '', '', '', '', '', '', '', '', '', '', '', '', '', '', '', '', '', '', '', '', '', '', '', '', '', '', '']\n",
      "['Okay.', ' Okay.', ' Question', ' Question', ' Opinion', ' Opinion', ' Yes.', ' Yes.', ' Yes.', ' Statement', ' Statement', ' Statement', ' Acknowledgment', ' Uncertainty', ' Suggestion', ' Agreement', ' Uncertainty', ' Opinion', ' Opinion', ' Acknowledgment', ' Agreement', ' Narrative', ' Narrative', ' Narrative', ' Narrative', ' Acknowledgment', ' Acknowledgment', ' Acknowledgment', ' Statement', ' Statement', ' Statement', ' Statement', ' Acknowledgment', ' Uncertainty', ' Agreement', ' Agreement', ' Agreement', ' Confirmation', ' Acknowledgment', ' Acknowledgment', ' Acknowledgment', ' Statement', ' Agreement', ' Agreement', ' Agreement', ' Confirmation', ' Confirmation', ' Opinion', ' Opinion', ' Agreement', ' Agreement', ' Agreement', ' Opinion', ' Opinion', ' Statement', ' Statement', ' Statement', ' Acknowledgment', ' Acknowledgment', ' Summation', ' Agreement', ' Opinion', ' Opinion', ' Opinion', ' Suggestion', ' Awareness', ' Confirmation', ' Acknowledgment', ' Acknowledgment', ' Statement', ' Acknowledgment', ' Agreement', ' Opinion', ' Opinion', ' Summation', ' Agreement', ' Agreement', ' Thank you.', ' Farewell.', '', '', '', '', '', '', '', '', '', '', '', '', '', '', '', '', '', '', '', '', '', '', '']\n"
     ]
    }
   ],
   "source": [
    "print(d1_t1_res)\n",
    "print(d2_t1_res)\n",
    "print(d3_t1_res)"
   ]
  },
  {
   "cell_type": "code",
   "execution_count": 33,
   "metadata": {},
   "outputs": [],
   "source": [
    "dialogue1_res['task1_pred'] = d1_t1_res\n",
    "dialogue2_res['task1_pred'] = d2_t1_res\n",
    "dialogue3_res['task1_pred'] = d3_t1_res"
   ]
  },
  {
   "cell_type": "markdown",
   "metadata": {},
   "source": [
    "## Task 2, zero-shot with list of possible dialogue acts"
   ]
  },
  {
   "cell_type": "code",
   "execution_count": 34,
   "metadata": {},
   "outputs": [
    {
     "name": "stdout",
     "output_type": "stream",
     "text": [
      "['o' 'qw' '^h' 'sv' 'qo' 'sd' 'b' '+' 'qy' 'nn' 'sd^e' 'bk' '%' 'bf' 'ny'\n",
      " 'ny^r' 'bh' 'x' 'ba' 'b^r' 'aa' 'qy^d' 'na' 'b^m' 'h' 'nd' '\"' 'qh' 'no'\n",
      " 'sd^m' 'ad' 'sv^e' 'ng' 'qy^g' 'ba^r' '^2' 'aa^r' 'sd^t' 'fc' 'ft']\n"
     ]
    }
   ],
   "source": [
    "import numpy as np\n",
    "# find all different types of tags\n",
    "all_tags = pd.concat([dialogue1_targets, dialogue2_targets, dialogue3_targets]).unique()\n",
    "print(all_tags)"
   ]
  },
  {
   "cell_type": "code",
   "execution_count": 35,
   "metadata": {},
   "outputs": [
    {
     "name": "stdout",
     "output_type": "stream",
     "text": [
      "\n",
      "You are are a classifier that identifies dialogue act tags for a given dialogue.\n",
      "The dialogue is between two speakers, A and B.\n",
      "Return only the dialouge acts of speaker A and B in order of appearance.\n",
      "Separate the dialogue acts of speaker A and B with a comma.\n",
      "The user will send a table with the columns 'caller' and 'text'.\n",
      "The caller column will have the values 'A' and 'B' and designates which speaker is speaking.\n",
      "The text column will have the dialogue that speaker 'A' or 'B' is saying.\n",
      "\n",
      "Here are possible dialouge act tags you can choose from:\n",
      "o, qw, ^h, sv, qo, sd, b, +, qy, nn, sd^e, bk, %, bf, ny, ny^r, bh, x, ba, b^r, aa, qy^d, na, b^m, h, nd, \", qh, no, sd^m, ad, sv^e, ng, qy^g, ba^r, ^2, aa^r, sd^t, fc, ft\n"
     ]
    }
   ],
   "source": [
    "task2_prompt = '''\n",
    "You are are a classifier that identifies dialogue act tags for a given dialogue.\n",
    "The dialogue is between two speakers, A and B.\n",
    "Return only the dialouge acts of speaker A and B in order of appearance.\n",
    "Separate the dialogue acts of speaker A and B with a comma.\n",
    "The user will send a table with the columns 'caller' and 'text'.\n",
    "The caller column will have the values 'A' and 'B' and designates which speaker is speaking.\n",
    "The text column will have the dialogue that speaker 'A' or 'B' is saying.\n",
    "\n",
    "Here are possible dialouge act tags you can choose from:\n",
    "'''\n",
    "\n",
    "task2_prompt += ', '.join(all_tags)\n",
    "print(task2_prompt)"
   ]
  },
  {
   "cell_type": "code",
   "execution_count": 36,
   "metadata": {},
   "outputs": [
    {
     "name": "stdout",
     "output_type": "stream",
     "text": [
      "using prompt \n",
      "You are are a classifier that identifies dialogue act tags for a given dialogue.\n",
      "The dialogue is between two speakers, A and B.\n",
      "Return only the dialouge acts of speaker A and B in order of appearance.\n",
      "Separate the dialogue acts of speaker A and B with a comma.\n",
      "The user will send a table with the columns 'caller' and 'text'.\n",
      "The caller column will have the values 'A' and 'B' and designates which speaker is speaking.\n",
      "The text column will have the dialogue that speaker 'A' or 'B' is saying.\n",
      "\n",
      "Here are possible dialouge act tags you can choose from:\n",
      "o, qw, ^h, sv, qo, sd, b, +, qy, nn, sd^e, bk, %, bf, ny, ny^r, bh, x, ba, b^r, aa, qy^d, na, b^m, h, nd, \", qh, no, sd^m, ad, sv^e, ng, qy^g, ba^r, ^2, aa^r, sd^t, fc, ft\n",
      "generating for dialogue 1\n",
      "generating for dialogue 2\n",
      "generating for dialogue 3\n",
      "curr len 75\n",
      "curr len 115\n",
      "curr len 594\n"
     ]
    }
   ],
   "source": [
    "d1_t2_res, d2_t2_res, d3_t2_res = test_prompt(task2_prompt)"
   ]
  },
  {
   "cell_type": "code",
   "execution_count": 37,
   "metadata": {},
   "outputs": [
    {
     "name": "stdout",
     "output_type": "stream",
     "text": [
      "['o', ' qw', ' sd', ' ^h', ' qy', ' sd', ' sd^m', ' sv', ' sd', ' qy', ' sd^e', ' b', ' +', ' nq', ' qh', ' sd^m', ' sv', ' sd^m', ' bk', ' +', ' qy', ' no', ' qw', ' qw', ' qy^g', ' sd^t', ' na', ' sd^m', ' sd', ' sd^e', ' sd', ' qy^d', ' qh', ' ba^r', ' sv', ' sd^m', ' sd^e', ' sd', ' \\\\', ' qh', ' qy', ' o', ' qw', ' sd', ' sd^t', ' qh', ' sd', ' br', ' qy', ' na', ' sd^m', ' na', ' ba', ' sv', ' sd', ' sv', ' qy', ' sd', ' sv', ' ba^r', ' qy', ' sd', ' sd^m', ' sd^t', ' sd^m', ' na', ' ba', ' ba^r', ' sd', ' sv', ' qy', ' sd', ' sv', ' qy^d', ' %', '', '', '', '', '', '', '', '', '', '', '', '', '', '', '', '', '', '', '', '', '', '', '', '', '', '', '', '', '', '', '', '', '', '', '', '', '', '', '', '', '', '', '', '', '', '', '', '', '', '', '', '', '', '', '', '', '', '', '', '', '', '', '', '', '', '', '', '', '', '', '', '', '', '', '', '', '', '', '', '', '', '', '', '', '', '', '', '', '', '', '', '', '', '', '', '', '', '', '', '', '', '', '', '', '', '', '', '', '', '', '', '', '', '', '', '', '', '', '', '', '', '', '', '', '', '', '', '', '', '', '', '', '', '', '', '', '', '', '', '', '', '', '', '', '', '', '', '', '', '', '', '', '', '', '', '', '', '', '', '', '', '', '', '', '', '', '', '', '', '', '', '', '', '', '', '', '', '', '', '']\n",
      "['sv', ' o', ' sd', ' b', ' sv', ' sd', ' o', ' b', ' sv', ' sv', ' qw', ' sd', ' sd', ' na', ' sd', ' sd', ' sd', ' qw', ' sv', ' sv', ' sd', ' sd', ' sd', ' b', ' qy^d', ' b^m', ' sd^e', ' sd', ' qw', ' sv', ' sv', ' sd', ' sd', ' h', ' sd', ' sv', ' sd', ' sd', ' qw', ' sv', ' sv^e', ' sv', ' sv', ' sd', ' sd', ' na', ' b^m', ' sd', ' sd', ' sd^m', ' sd', ' b^m', ' sv', ' sd', ' sd', ' sd', ' sd', ' qw', ' qy', ' na', ' sd', ' ba', ' sd', ' b', ' qy', ' na', ' sv^e', ' na', ' qy', ' sd', ' sv', ' b', ' sv', ' sd', ' qy', ' qy', ' sd^e', ' sd^t', ' sd', ' sd', ' sd', ' b', ' qy', ' sd', ' sv', ' sd', ' sd', ' sd', ' sd', ' na', ' qy^g', ' b', ' sv', ' sv', ' sd', ' sb', ' h', ' sd', ' sd', ' ba^r', ' sb', ' sd', ' sd', ' qy', ' sd', ' sd', ' sd', ' sd', ' na', ' sd', ' sd^t', ' na', ' na', ' b^m', ' nw.', '', '', '', '', '', '', '', '', '', '', '', '', '', '', '', '', '', '', '', '', '', '', '', '', '', '', '', '', '', '', '', '', '', '', '', '', '', '', '', '', '', '', '', '', '', '', '', '', '', '', '', '', '', '', '', '', '', '', '', '', '', '', '', '', '', '', '', '', '', '', '', '', '', '', '', '', '', '', '', '', '', '', '', '', '', '', '', '', '', '', '', '', '', '', '', '', '', '', '', '', '', '', '', '', '', '', '', '', '', '', '', '', '', '', '', '', '', '', '', '', '', '', '', '', '', '', '', '', '', '', '', '', '', '', '', '', '', '', '', '', '', '', '', '', '', '', '', '', '', '', '', '', '', '', '', '', '', '', '', '', '', '', '', '', '', '', '', '', '', '', '', '', '', '', '', '', '', '', '', '', '', '', '', '', '', '', '', '', '', '', '', '', '', '', '', '', '', '', '', '', '', '', '', '', '', '', '', '', '', '', '', '', '', '', '', '', '', '', '', '', '', '', '', '', '', '', '', '', '', '', '', '', '', '', '', '', '', '', '', '', '', '', '', '', '', '', '', '', '', '', '', '', '', '', '', '', '', '', '', '', '', '', '', '', '', '', '', '', '', '', '', '', '']\n",
      "['o', ' o', ' qw', ' qw', ' sv', ' sv', ' sv', ' sv', ' b', ' b', ' b', ' b', ' b', ' sf', ' qh', ' sv', ' sv', ' o', ' qy', ' na', ' qy', ' qy', ' sd', ' sd', ' sv', ' n', ' qh', ' v', ' ba', ' y', ' ba', ' ba', ' sv', ' sv', ' sv', ' sv', ' sv', ' sv', ' sv', ' sd', ' bh', ' sv', ' v', ' n', ' qy', ' qy', ' na', ' qy', ' sd', ' na', ' sv', ' qy', ' na', ' sd', ' sv', ' sd', ' sd', ' sv', ' na', ' sv', ' na', ' sv', ' sd', ' sv', ' o', ' sv', ' v', ' na', ' qy', ' na', ' na', ' qy', ' na', ' sd^e', ' sd', ' qh', ' sd', ' qy', ' sv^e', ' qy', ' sv', ' sd', ' sd', ' sv^e', ' v', ' qy^g', ' v', ' b', ' sd', ' o', ' sd', ' aa', ' sd^m', ' sd^m', ' a', ' sd^m', ' aa^r', ' sv', ' a', ' sd', ' qh', ' o']\n"
     ]
    }
   ],
   "source": [
    "print(d1_t2_res)\n",
    "print(d2_t2_res)\n",
    "print(d3_t2_res)"
   ]
  },
  {
   "cell_type": "code",
   "execution_count": 38,
   "metadata": {},
   "outputs": [],
   "source": [
    "dialogue1_res['task2_pred'] = d1_t2_res\n",
    "dialogue2_res['task2_pred'] = d2_t2_res\n",
    "dialogue3_res['task2_pred'] = d3_t2_res"
   ]
  },
  {
   "cell_type": "markdown",
   "metadata": {},
   "source": [
    "## Task 3, few-shot providing list of possible dialogue acts"
   ]
  },
  {
   "cell_type": "code",
   "execution_count": 39,
   "metadata": {},
   "outputs": [],
   "source": [
    "example_dialogue = pd.read_csv('swda\\swda\\sw12utt\\sw_1203_2229.utt.csv')\n",
    "example_dialogue = example_dialogue[['caller', 'text', 'act_tag']]"
   ]
  },
  {
   "cell_type": "code",
   "execution_count": 40,
   "metadata": {},
   "outputs": [],
   "source": [
    "task3_prompt = '''\n",
    "You are are a classifier that identifies dialogue act tags for a given dialouge.\n",
    "The dialogue is between two speakers, A and B.\n",
    "Return only the dialouge acts of speaker A and B in order of appearance.\n",
    "Separate the dialogue acts of speaker A and B with a comma.\n",
    "The user will send a table with the columns 'caller' and 'text'.\n",
    "The caller column will have the values 'A' and 'B' and designates which speaker is speaking.\n",
    "The text column will have the dialogue that speaker 'A' or 'B' is saying.\n",
    "\n",
    "Here are possible dialouge act tags you can choose from:\n",
    "'''\n",
    "\n",
    "task3_prompt += ', '.join(all_tags)\n",
    "\n",
    "task3_prompt += \"\\n\\nHere is an example annotated dialogue:\\n\\n\" + example_dialogue.to_string()"
   ]
  },
  {
   "cell_type": "code",
   "execution_count": 41,
   "metadata": {},
   "outputs": [
    {
     "name": "stdout",
     "output_type": "stream",
     "text": [
      "using prompt \n",
      "You are are a classifier that identifies dialogue act tags for a given dialouge.\n",
      "The dialogue is between two speakers, A and B.\n",
      "Return only the dialouge acts of speaker A and B in order of appearance.\n",
      "Separate the dialogue acts of speaker A and B with a comma.\n",
      "The user will send a table with the columns 'caller' and 'text'.\n",
      "The caller column will have the values 'A' and 'B' and designates which speaker is speaking.\n",
      "The text column will have the dialogue that speaker 'A' or 'B' is saying.\n",
      "\n",
      "Here are possible dialouge act tags you can choose from:\n",
      "o, qw, ^h, sv, qo, sd, b, +, qy, nn, sd^e, bk, %, bf, ny, ny^r, bh, x, ba, b^r, aa, qy^d, na, b^m, h, nd, \", qh, no, sd^m, ad, sv^e, ng, qy^g, ba^r, ^2, aa^r, sd^t, fc, ft\n",
      "\n",
      "Here is an example annotated dialogue:\n",
      "\n",
      "    caller                                                                                                                                                          text act_tag\n",
      "0        A                                                                                [ Do yo-, + are you  ] on a [ reg-, + regular  ] exercise program right now? /      qy\n",
      "1        B                                                                                                                                                       Yes,  /      ny\n",
      "2        B                                                                                                                              {C and } I hate it <laughter>. /    sd^e\n",
      "3        A                                                                                                                                                   <Laughter>.       x\n",
      "4        B                                                                                                                                              How about you? /      qo\n",
      "5        A                                                                                                                 {F Oh, } {D well, } I'm kind of off and on. /      sd\n",
      "6        B                                                                                                                                                 Off and on  /     b^m\n",
      "7        B                                                                                                            {D well, } I guess I've been kind of off and on  /      sd\n",
      "8        B                                                                                                                                                I've, {F uh, }      sd\n",
      "9        A                                                                                                                                  Right now I'm kind of off. /      sd\n",
      "10       B                                                                                                    Had some health problems that have led me to, {F uh, } - /       +\n",
      "11       B                                                                                                                        I'd say more on than off <laughter>. /      sd\n",
      "12       A                                                                                                                                                      Okay,  /       b\n",
      "13       A                                                                                                                            what type of exercise do you do? /      qw\n",
      "14       B                                                                                                                    {F Uh, } I do walking on the treadmill,  /      sd\n",
      "15       B                                                                                                                     {C and then } I do low impact aerobics. /      sd\n",
      "16       A                                                                                                                                                      Okay.  /      bk\n",
      "17       A                                                                                                                     I guess you don't enjoy that very much. /    qy^d\n",
      "18       B                                                                                                                                      [ Not, + not ] really. /      ng\n",
      "19       A                                                                                                                    Do you find that, {F uh, } to be boring? /      qy\n",
      "20       B                                                                                                                                                      Yeah,  /      ny\n",
      "21       B                                                                                                                                        and time consuming,  /    sd^e\n",
      "22       B                                                                                   {E I mean } it's not just the exercise that's boring and time consuming,  /      sv\n",
      "23       B                                                                                                   it's, {F uh, } {D you know, } afterwards, {D you know, }  /      sv\n",
      "24       B                                                                                           then you have to take a shower and get cleaned up, {D you know. } /      sv\n",
      "25       A                                                                                                                                                       Yeah. /       b\n",
      "26       B                                                                                                                                                   <Laughter>.       x\n",
      "27       A                                                                                        {D Well, } I'm trying to get back in shape for softball this spring. /      sd\n",
      "28       B                                                                                                                                              {F Oh, } yeah. /       b\n",
      "29       A                                                                                                                                                {C But } I, -/       %\n",
      "30       B                                                                  [ Do you go through this, + is this something that you go through ] every year <laughter>. /      qy\n",
      "31       A                                                                                                                                                      Yeah,  /      ny\n",
      "32       A                                                                                         I haven't decided [ whether, + whether ] I want to play yet or not  /    sd^e\n",
      "33       A                                                                                                                  I just bought myself a solo flex machine,  /      sd\n",
      "34       A                                                                                                        I don't know if you've seen those advertised on T V. /    qy^d\n",
      "35       B                                                                                                                                                     Uh-huh. /      ny\n",
      "36       A                                                                             It's one of those, {F uh, } universal type [ machines, + exercise machines.  ]  /      sd\n",
      "37       A                                                                                                  {C But } I haven't really sat down and used it match yet,  /      sd\n",
      "38       A                                                                                                                     {C so } it's collecting dust right now. /      sd\n",
      "39       B                                                                                                                                           <Laughter> Yeah,  /       b\n",
      "40       B                                                                                                                                   a lot of things do that.  /      sv\n",
      "41       B                                                                                                                                                 [ I had an, +      sd\n",
      "42       A                                                                                                                                     I used to jog somewhat. /      sd\n",
      "43       B                                                                                                                                   I had an ] exercise bike  /       +\n",
      "44       B                                                                                                                                         I use to have one,  /      sd\n",
      "45       B                                                                                                   {C and } I finally got rid of sit cause I never used it,  /      sd\n",
      "46       B                                                                                                                 {C but } I do use my treadmill <breathing>. /      sd\n",
      "47       A                                                                                                                                                    Uh-huh,  /       b\n",
      "48       A                                                                                                                                    {D well, } that's good.  /      ba\n",
      "49       A                                                                                                                                                      Yeah,  /       %\n",
      "50       A                                                                                                                                my parents have a treadmill  /      sd\n",
      "51       A                                                                                                                                                     it's, - /       %\n",
      "52       A                                                                                      when I go visit them, {F uh, } I get on that thing every now and then. /      sd\n",
      "53       B                                                                                                                                                      Yeah,  /       b\n",
      "54       B                                                             it's nice because when the weather's bad [ you can't, + you don't ] have any <laughter> excuse. /      sv\n",
      "55       A                                                                                                                                                    Uh-huh,  /       b\n",
      "56       A                                                                                                                          I just got the bicycle out today,  /      sd\n",
      "57       A                                                                                                                         {C and } it was real nice outside,  /      sd\n",
      "58       A                                                                                                                             had to get out to do something. /      sd\n",
      "59       B                                                                                                                                                      Yeah,  /       b\n",
      "60       B                                                                                                                                        I can't ride a bike  /      sd\n",
      "61       B                                                                                                                                                   {C so. } -/       %\n",
      "62       A                                                                                             I've been sitting in here in the house all weekend with a cold  /      sd\n",
      "63       A                                                                                                                                            {C so } thought I,      sd\n",
      "64       B                                                                                                                                                         Oh. /       b\n",
      "65       A                                                                                   [ better, + better  ] get outside and do something and not waist the day. /       +\n",
      "66       B                                                                                                                                                      Yeah,  /       b\n",
      "67       B                                                                                                                                             it's too nice,  /      sv\n",
      "68       B                                                                                                                             it's been too nice all weekend. /      sv\n",
      "69       A                                                                                                                                   {C But, } {F uh, } yeah,  /       b\n",
      "70       A                                                                                                                 I need to start [ jog + something ] again.  /      sv\n",
      "71       A                                                                              I've always of that to be, {F uh, } really one of the best forms of exercise,  /      sv\n",
      "72       A                                                                                                                             {C but } it's terribly boring,  /      sv\n",
      "73       A                                                                                             {C and so } I really don't ever keep a program up consistently. /      sd\n",
      "74       B                                                                                                                Have you ever had any injuries from jogging? /      qy\n",
      "75       A                                                                                                                                                        No,  /      nn\n",
      "76       A                                                                                                                                              I never have.  /    sd^e\n",
      "77       A                                                                                              {D Well, } I don't job enough I think to develop any injuries  /      sv\n",
      "78       A                                                                                                                      I usually only go about a mile or two. /      sd\n",
      "79       B  I guess it worries me about jogging [ it's + ] that I hear that it's very hard on your body [ and, + and ] that, {D you know, } you can end up getting hurt,      sd\n",
      "80       A                                                                                                                                                       Yeah, /       b\n",
      "81       B                                                                                                                                                      worse. /       +\n",
      "82       A                                                                                                 [ it's, + it's  ] tough on the joints if you jog on concrete,      sv\n",
      "83       B                                                                                                                                                     Uh-huh. /       b\n",
      "84       A                                                                                                                                            or on asphalt.   /       +\n",
      "85       A                                                                        Suppose to be much better if you find grass, {F uh, } [ or, + or  ]  dirt to jog on. /      sv\n",
      "86       B                                                                                                                                                      Yeah,  /       b\n",
      "87       B                                                                                                                          that's not quite [ so +  <laughter>,      sv\n",
      "88       A                                                                                                                                   You have to have the right,      sv\n",
      "89       B                                                                                                                                                  so ] easy. /       +\n",
      "90       A                                                                                                                                         type of shoes too,  /       +\n",
      "91       A                                                                                                                                                       that's,      sv\n",
      "92       B                                                                                                                                                       Yeah. /       b\n",
      "93       A                                                                                                                                             very important. /       +\n",
      "94       B                                                                                                                                                      Yeah.  /     b^r\n",
      "95       B                                                                                                                                                 I found that,      sd\n",
      "96       A                                                                                                                                                  {C But, } -/       %\n",
      "97       B                                                                                                     true especially from walking on  (( toe and fronts )) . /       +\n",
      "98       A                                                                                                                                                      Yeah,  /       b\n",
      "99       A                                                                                                             I don't have to buy jogging shoes all to often  /      sd\n",
      "100      A                                                                                                                      my don't get very much use <laughter>. /      sd\n",
      "101      B                                                                    <Laughter> {D Well, } I guess my breakdown [ about, + they say about ] every six months. /      sv\n",
      "102      A                                                                                                                                                    Uh-huh.  /       b\n",
      "103      A                                                                                                                          I usually enjoy the exercise I do  /      sd\n",
      "104      A                                                          {C but, } {F uh, } like I said I'm just not very consistent about maintaining [ a, + a ] program.  /      sd\n",
      "105      A                                                                                                                           {C So } [ I'll, + I'll ] bicycle  /      sd\n",
      "106      A            I get into that [ for, + for ] a little while and maybe go out, {F uh, } on a consistent basis every couple of days and ride a bike for awhile,  /      sd\n",
      "107      A                                                                                                                   {C but } then I'll get tired of doing that,      sd\n",
      "108      B                                                                                                                                                   <Laughter>.       x\n",
      "109      A                                                                                 and maybe start jogging again and go out about three or four nights a week. /       +\n",
      "110      B                                                                                                                                                     ((   )) .       x\n",
      "111      A                                                                                                 {C But, } {F uh, } that gets old too in a very short order, /      sd\n",
      "112      B                                                                                                                                                       Yeah. /       b\n",
      "113      A                                                   [ I'm, + I'm  ] hoping that this, {F uh, } solo flex will, {F uh, } {F uh, } change things a little bit,  /      sd\n",
      "114      A                                                                 I really need to get on a regular type of program and use that thing on a consistent basis. /      sd\n",
      "115      B                                                                                                                                                      Yeah,  /       b\n",
      "116      B                                                                                                                      {D well, } don't let it collect dust.  /      ad\n",
      "117      B                                                                                                          At least exercise while dusting it off <laughter>. /      ad\n",
      "118      A                                                                                                                                                       Yeah. /       b\n",
      "119      B                                                                                                                          <Laughter> <breathing> {D well. } -/       b\n",
      "120      A                           Maybe if I can get interested in playing softball again this string I can, {F uh, } start some type of, {F uh, } regular program. /      sd\n",
      "121      B                                                                                                                                                      Yeah,  /       b\n",
      "122      B                                                                                                                               [ that, + that'll  ] be good. /      ba\n",
      "123      A                   I've always found that, {F uh, } when you write things down and set goals it's a lot easier to [ keep, + {F uh, } keep ] something going. /      sd\n",
      "124      B                                                                                                                                                     Uh-huh. /       b\n",
      "125      A                                   {F Uh, } when I was in high school we had a choice of, {F uh, } taking, {F uh, } physical education courses on exercise,  /      sd\n",
      "126      A                                                      {C an, } {F uh, } one of those involved a six weeks session on a universal machine, lifting weights and,      sd\n",
      "127      B                                                                                                                                                         Oh. /       b\n",
      "128      A                                                                                                                            {F uh, } working out like that.  /       +\n",
      "129      A                                                                                                                             {C And } that was very helpful  /      sd\n",
      "130      A                                                                                                                               we kept charts of our progress,      sd\n",
      "131      B                                                                                                                                                     Uh-huh. /       b\n",
      "132      A                                        and, {F uh, } consistently increased the empty of resistance so you could see how much you improved over the weeks.  /       +\n",
      "133      A                                                                                                                  I found that to be, {F uh, } very helpful. /      sd\n",
      "134      B                                                                                                                                   Are you going to do that? /      qy\n",
      "135      A                                                                                                                                         {F Uh, } I need to, /      no\n",
      "136      B                                                                                                                                                   <Laughter>.       x\n",
      "137      A                                                                                                                                      I haven't started yet  /      sd\n",
      "138      A                                                                                                               {C but, } {F uh, } <laughter> it's a thought. /      sv\n",
      "139      B                                                                                                      {D Well, } that sounds like something good to do then. /      sv\n",
      "140      A                                                                                                                          Sounds like something I should do. /      sv\n",
      "141      B                                                                                                                                                      Yeah,  /       b\n",
      "142      B                                                                                                                            nice way to start off this spring.      sv\n",
      "143      A                                                                                                                                                   <Laughter>.       x\n",
      "144      B                                                                                                                                          Get back in shape. /       +\n",
      "145      A                                                                                       How often do you, {F uh, } {F uh, } go out each week on your walking? /      qw\n",
      "146      B                                                                                                                                          {D Well, } I do, - /      sd\n",
      "147      B                                                                                                                                   I switch every other day  /      sd\n",
      "148      B                                                                                                                                             one day I walk  /      sd\n",
      "149      B                                                                                                                         {C and } one day I do the aerobics. /      sd\n",
      "150      A                                                                                                                                                      Okay,  /      bk\n",
      "151      A                                                                                                            [ how far, + about how far  ] do you go walking? /      qw\n",
      "152      B                                                                                                  <Breathing> {D Well, } I'm trying to get my tolerance now  /      ^h\n",
      "153      B                                                                                                     I just had surgery, {F um, } less then two months ago,  /      sd\n",
      "154      B                                                                                          {C and } right now I'm just a little over about a mile and a half, /      sd\n",
      "155      A                                                                                                                                                       Okay. /      bk\n",
      "156      B                                                                                                               {C but } I'm trying to workup to three miles. /      sd\n",
      "157      A                                                                                                                                    {D Well, } that's good.  /      ba\n",
      "158      A                                                                                 {D Well } they say that walking is just as good if not better then jogging. /      sv\n",
      "159      B                                                                                                                                                       Yeah, /       b\n",
      "160      A                                                                                                                                                        It, -/       %\n",
      "161      B                                                                                  [ it takes, + it's just that it takes  ] longer to get to the same effect. /      sv\n",
      "162      A                                                                                                                                                       Sure. /       b\n",
      "163      B                                                                                                                                                      Yeah,  /       b\n",
      "164      B                                                                                                                                                  {C but. } -/       %\n",
      "165      A                                                   {D Well, } if you keep up with a consistent pace just to, {F uh, } keep the heart rating going, {F uh, } -/      sv\n",
      "166      B                                                                                                                                           My walkman broke, /      sd\n",
      "167      A                                                                                                                                                       Yeah. /       b\n",
      "168      B                                                                                                                               {C so } I'm upset <laughter>, /      sd\n",
      "169      A                                                                                                                                                   <Laughter>.       x\n",
      "170      B                                                                                             {C and } I just have to turn to stereo up real loud <laughter>. /      sd\n",
      "171      A                                                                                                                                                       Yeah. /       b\n",
      "172      B                                                                                                                                                   <Laughter>.       x\n",
      "173      A                                                                                           {C But } it's a lot less stressful on the joints then jogging is. /      sv\n",
      "174      B                                                                                                                                                      Yeah,  /      aa\n",
      "175      B                                                                                                                                                      it is  /      aa\n",
      "176      B                                                                                                                    {C and } this doesn't, {D you know,  } - /       %\n",
      "177      B                                                                                                                                my treadmill has an incline  /      sd\n",
      "178      B                                                                                           {C and, } {D you know, } you can get a really good workout on it. /      sv\n",
      "179      A                                                                                                                    {F Um, } do you go to an aerobics class  /      qy\n",
      "180      A                                                                                                                                         {C or } do you watch,     qrr\n",
      "181      B                                                                                                                                                        No,  /      nn\n",
      "182      B                                                                                                                                                        [ I, +    sd^e\n",
      "183      A                                                                                                                                                     on T V? /       +\n",
      "184      B                                                                                                                                     I  ] just do it on T V, /       +\n",
      "185      A                                                                                                                                                       Okay. /      bk\n",
      "186      B                                                                                                                                          I have a cassette. /      sd\n",
      "187      A                                                                                                                  Which, {F uh, } shows do you watch on T V? /      qw\n",
      "188      B                                                                                                                      {F Um, } [ it's a, + it's a  ] tap-, - /       %\n",
      "189      B                                                                                                                                                I use tapes. /      sd\n",
      "190      A                                                                                                                                             {F Oh, } okay,  /      bk\n",
      "191      A                                                                                                                                                      okay,  /     b^r\n",
      "192      A                                                                                                                                 like a Cathy Smith workout, /      bf\n",
      "193      B                                                                                                                              [ Or, + or  ] Richard Simmons, /      sd\n",
      "194      A                                                                                                                                              or Jane Fonda. /      ^2\n",
      "195      B                                                                                                                                                   <Laughter>.       x\n",
      "196      A                                                                                                                                            Okay <laughter>. /      bk\n",
      "197      B                                                                                                                          Sweating to the oldies <laughter>. /      bf\n",
      "198      A                                                                                                                                                     Right.  /      aa\n",
      "199      A                                                                                               [ I, + [ ev-, + every  ] now and then I'll  ] watch E S P N,  /      sd\n",
      "200      A                                                                                                                                         I get cable on T V, /      sd\n",
      "201      B                                                                                                                                                     Uh-huh. /       b\n",
      "202      A                                                                                      {C and } they have, {F uh, } a couple of shows called basic training,  /      sd\n",
      "203      A                                                                                                            {C and, } {F uh, } what is the other one called. /      qw\n",
      "204      B                                                                                                               There was one guy I use to watch on E S P N,  /      sd\n",
      "205      B                                                                                                             I don't know if he's still on any more or not,  /      sd\n",
      "206      B                                                                                              [ I don-, + I don't ] know if I get E S P N or not <laughter>. /      sd\n",
      "207      A                                                                                                                                                     Uh-huh. /       b\n",
      "208      B                                                                                                                    {C But, } {F uh, } one, {D you know, } - /       %\n",
      "209      B                                                                                                            I use to [ watch one, + watch one ] on the air,  /      sd\n",
      "210      B                                                                                                                                    {C but } that was back, -/      sd\n",
      "211      A                                                                                  BODIES IN MOTION [ that's, + that's ] the name of the one I was thinking of.      sd\n",
      "212      B                                                                                                                                               That's was, - /       %\n",
      "213      B                                                                                                                                                       yeah. /       b\n",
      "214      A                                                                                                                                                  With Gill. /       +\n",
      "215      B                                                                                                                                                       Yeah. /       b\n",
      "216      A                                                                                                                                                     ((   )) .       x\n",
      "217      B                                                                                                                                                      Yeah,  /     b^r\n",
      "218      B                                                                                                                I watched that cause he was cute <laughter>. /      sd\n",
      "219      A                                                                                                                                                      Yeah,  /      aa\n",
      "220      A                                                                                                            <laughter> [ [ he-, + he-,  ] + he's  ] not bad  /     aap\n",
      "221      A                                                                                                                       his assistants usually aren't either. /      sv\n",
      "222      B                                                                                                                                                   <Laughter>.       x\n",
      "223      A                                                                                                                                                   <Laughter>.       x\n",
      "224      B                                                                                                                                         {C But, } {F uh, } -/       %\n",
      "225      A                                                                                                               They're always [ in, + in  ] Hawaii some place.      sd\n",
      "226      B                                                                                                                                                      Yeah,  /       b\n",
      "227      B                                                                                                                                                       yeah. /     b^r\n",
      "228      A                                                                                                                                    [ On, + on  ] the beach. /       +\n",
      "229      B                                                                             {C But } then that was back when, {F uh, } {D you know, } the high impact and, -/      sd\n",
      "230      A                                                                                                                                                      Yeah,  /       b\n",
      "231      A                                                                                                       {D well, } [ they, + they ] do low I pact stuff now,  /      sd\n",
      "232      A                                                                                    <+ typo? I pact =impact +> *[[why utt? this is notes about transcription]]      o@\n",
      "233      B                                                                                                                                                    Do they. /      bh\n",
      "234      A                                                                                                                                       they're on every day. /      +@\n",
      "235      B                                                                                                                                                 Are the-, - /       %\n",
      "236      B                                                                                                                                                       yeah  /       b\n",
      "237      B                                                                                [ [ they're still, + they're still, ] + he's still ] doing it then, {F uh. } /    qy^d\n",
      "238      A                                                                                                                                                      Yeah,  /      ny\n",
      "239      A                                                                                                                                              every morning. /    sd^e\n",
      "240      B                                                                                                                                       I'll have to tune in. /      sd\n",
      "241      A                                                                                                                                  It's on E S P N, {F uh, }  /      sd\n",
      "242      A                                                                                                                                              at what time,  /      t1\n",
      "243      A                                                                                                                                I can't remember what time.  /      sd\n",
      "244      A                                                                                                                             It's, {F uh, } {D you know, } - /       %\n",
      "245      A                                                                                                                         I can't remember offhand what time. /      sd\n",
      "246      B                                                                                                                       I'll have to [ check it, + [ [ check, +      sd\n",
      "247      A                                                                                                                                                       Yeah  /       b\n",
      "248      A                                                                                                                                                     ((   )) .       x\n",
      "249      B                                                                                                                           check, ] + check ] it ] back up,  /       +\n",
      "250      B                                           [ {C and, } + {C but } ] the thing is everybody always looks so good on that show, at least on (( )) <laughter>. -/      sv\n",
      "251      A                                                                                                                                                      Yeah,  /       b\n",
      "252      A                                                                                                                                         every now and then. /       %\n",
      "253      B                                                                                                                   Not everybody has a picture perfect body. /      sv\n",
      "254      A                                                                                                                                                    Uh-huh,  /       b\n",
      "255      A                                              {D well, } I found that [ they, + they ] have just a much better program than the other shows that are on T V. /      sv\n",
      "256      B                                                                                                 I haven't watch any other ones on T V. <typo watch=watched +>      sd\n",
      "257      A                                                                                                              They're on weekdays at eleven o'clock every day.      sd\n",
      "258      B                                                                                                                                  Just on some of the tapes. /       +\n",
      "259      A                                                                                                    Monday through Friday incase you're interested in that.  /       +\n",
      "260      A                                                                                                                  <+ typo incase=in case +>*[[again why utt?]]      o@\n",
      "261      B                                                                                                                                                      Okay,  /       b\n",
      "262      B                                                                                                                                          <laughter> thanks. /      ft\n",
      "263      A                                                                                                      I actually taped a few session that they had on there  /      +@\n",
      "264      A                                                                                                                                                     {C but, }      sd\n",
      "265      B                                                                                                                                 {D Now, } that's a thought. /      sv\n",
      "266      A                                                                                    {F uh, } I haven't done so much as, {F uh, } watch the tape that I made. /       +\n",
      "267      B                                                                                                                                                   <Laughter>.       x\n",
      "268      A                                                                                                                  {C So } I'm kind of bad about that myself. /      sd\n",
      "269      B                                                                                                                                 {D Well, } that's thought,  /      sd\n",
      "270      B                                                                                                                              I haven't thought about that,  /      sd\n",
      "271      B                                                                                                             {D well } they're going to beep us pretty soon. /    sd^t\n",
      "272      A                                                                                                                                           <Laughter> Okay,  /       b\n",
      "273      A                                                                                                                                    {D well, } I sure enjoyed,      fc\n",
      "274      B                                                                                                                                    Nice talking to you too. /      fc\n",
      "275      A                                                                                                                          to you about exercise and fitness. /       +\n",
      "276      B                                                                                                                                                      Okay,  /      fc\n",
      "277      B                                                                                                                                                     thanks. /      ft\n",
      "278      A                                                                                                                                         {D So, } all right. /      fc\n",
      "279      B                                                                                                                                          Talk to you later. /      fc\n",
      "280      A                                                                                                                                                 Good night. /      fc\n",
      "281      B                                                                                                                                                        Bye. /      fc\n",
      "282      A                                                                                                                                                        Bye. /      fc\n",
      "generating for dialogue 1\n",
      "generating for dialogue 2\n",
      "generating for dialogue 3\n",
      "curr len 187\n",
      "curr len 186\n",
      "curr len 152\n"
     ]
    }
   ],
   "source": [
    "d1_t3_res, d2_t3_res, d3_t3_res = test_prompt(task3_prompt)"
   ]
  },
  {
   "cell_type": "code",
   "execution_count": 42,
   "metadata": {},
   "outputs": [
    {
     "name": "stdout",
     "output_type": "stream",
     "text": [
      "['qy', ' no', ' sv', ' qy', ' qw', ' qw', ' sd', ' qw', ' sd^e', ' sv', ' sv', ' sv', ' sd', ' qy', ' sd', ' sv', ' sd', ' sd', ' sd', ' sd', ' sd', ' sd', ' sv', ' n', ' sv', ' sd', ' sd', ' sd', ' sd', ' sv', ' sd', ' sv', ' xx', ' ng', ' qy^d', ' qy', ' sd', ' qw', ' sd', ' qw', ' sv', ' sd^e', ' sd', ' sd', ' sd', ' sd', ' sd', ' sv^e', ' sd^e', ' sv', ' qa', ' qy', ' qy', ' sd', ' qy^d', ' sv', ' sv', ' sv', ' sd', ' qy', ' sd^e', ' sv', ' qy', ' sv', ' sv', ' sd', ' sd', ' sd', ' sd', ' sv', ' sv', ' sd^e', ' sv', ' sd', ' sv', ' sv', ' sd', ' sd', ' sv', ' sd', ' sd', ' sv', ' sd', ' qy', ' sd', ' sd', ' sd', ' sd', ' sv^d', ' sd^e', ' sv^h', ' sd', ' sv', ' sd', ' sd', ' sv^e', ' sv^e', ' sd^e', ' sv', ' no', ' sv', ' sv', ' sv', ' qy', ' qh', ' sv', ' sv', ' sd', ' sv', ' ad', ' sd', ' sd', ' sv', ' sv', ' sd', ' sv^e', ' sd', ' sd', ' sd', ' sd', ' sv^m', ' sd', ' sd', ' sv', ' sd', ' sd', ' sv', ' sd', ' sv', ' sd', ' sd', ' sv', ' sv', ' sd', ' sd', ' sd', ' sd', ' sd', ' sd', ' sv', ' sd', ' sd', ' sd', ' sd', ' sd', ' sd', ' sd', ' sd', ' sd', ' sd', ' sd^e', ' sv', ' sv', ' sv', ' ad', ' sd^e', ' sv', ' sv', ' sv', ' sv', ' sv', ' sd', ' sv', ' sv', ' sv', ' sv', ' sv', ' sv', ' qy^d', ' sd', ' sd', ' sd', ' sd', ' sd', ' sv', ' sv', ' sv', ' sd', ' sd', ' sv', ' sv', ' sv', ' sd', ' sv', ' sv', ' sd', ' sv', '', '', '', '', '', '', '', '', '', '', '', '', '', '', '', '', '', '', '', '', '', '', '', '', '', '', '', '', '', '', '', '', '', '', '', '', '', '', '', '', '', '', '', '', '', '', '', '', '', '', '', '', '', '', '', '', '', '', '', '', '', '', '', '', '', '', '', '']\n",
      "['qw', ' qy', ' x', ' ng', ' qw', ' na', ' ng', ' sv', ' sv', ' sd', ' sd', ' sd', ' sd', ' sv^e', ' sd^e', ' qy^g', ' qw', ' qy', ' qw', ' qh', ' qy', ' qw', ' sv', ' qw', ' hv', ' sd', ' sd', ' sd', ' +', ' ad', ' ad', ' qy', ' qw', ' sd', ' qy', ' na', ' no', ' sd', ' sd^e', ' sd', ' qy', ' sd^e', ' sd', ' na', ' sd', ' sd', ' sv', ' sd', ' sd', ' sd', ' qy', ' sd', ' sd', ' sd', ' sd', ' sv', ' sv', ' sv', ' sd', ' qy', ' sd', ' sv', ' na', ' sd', ' qy^g', ' qy', ' sd', ' sd^e', ' sd', ' sd', ' qy', ' sv', ' qy', ' sv', ' sd', ' qw', ' sd', ' sd', ' sd', ' qw', ' sd', ' sv', ' sd', ' sv', ' sv', ' sd^e', ' qy', ' sv', ' sd', ' sd', ' sd', ' sv', ' qy', ' sd', ' sd^e', ' sd', ' qy', ' sd', ' sd', ' sd', ' sv', ' sd', ' qy', ' sd^e', ' sd', ' fw', ' sd', ' qy', ' x', ' qh', ' sd', ' sd', ' no', ' sd^e', ' sd', ' qw', ' sd', ' zk', ' sd', ' no', ' sd^e', ' sd', ' sd', ' sv', ' sd', ' x', ' qw', ' qy', ' sd', ' sv', ' sd', ' ad', ' ft', ' ad', ' sv', ' sd', ' sd', ' sd', ' sd', ' sd', ' sd', ' qy', ' sd', ' sd', ' sd', ' sd', ' sd', ' sd', ' sv', ' na', ' sv', ' sd', ' no', ' qy', ' sd', ' qy^d', ' sd', ' sd', ' sd', ' sd', ' sd', ' qy', ' sd', ' sd', ' sd', ' sd', ' sd', ' qy^d', ' qy', ' sd', ' sd^e', ' sd', ' sd', ' sd', ' sv', ' sd', ' qy', ' sd', ' no', ' sv', ' sd', ' sd', ' sd', ' sd', ' sd', ' qy', '', '', '', '', '', '', '', '', '', '', '', '', '', '', '', '', '', '', '', '', '', '', '', '', '', '', '', '', '', '', '', '', '', '', '', '', '', '', '', '', '', '', '', '', '', '', '', '', '', '', '', '', '', '', '', '', '', '', '', '', '', '', '', '', '', '', '', '', '', '', '', '', '', '', '', '', '', '', '', '', '', '', '', '', '', '', '', '', '', '', '', '', '', '', '', '', '', '', '', '', '', '', '', '', '', '', '', '', '', '', '', '', '', '', '', '', '', '', '', '', '', '', '', '', '', '', '', '', '', '', '', '', '', '', '', '', '', '', '', '', '', '', '', '', '', '', '', '', '', '', '', '', '', '', '', '', '', '', '', '', '', '', '', '', '', '', '', '', '', '', '', '', '', '', '', '', '', '', '', '', '', '', '', '', '', '', '', '', '', '', '', '', '', '', '', '', '', '', '', '', '', '']\n",
      "['qw', ' b', ' qy^d', ' qy', ' ny', ' na', ' sd', ' sv', ' sd', ' sd', ' na', ' sd', ' sd', ' sd', ' sd^e', ' sd', ' sv', ' qy', ' b', ' nn', ' sd^m', ' sd', ' na', ' sd', ' sd', ' sd', ' sv', ' qy', ' qy^d', ' sd', ' b', ' sd', ' sd', ' b', ' sv', ' sd', ' ny', ' sv', ' sv^e', ' sv', ' sd', ' sd^t', ' sv', ' sd', ' sd', ' sd', ' sv', ' sd^m', ' sd', ' sd', ' na', ' sd', ' sd^d', ' nv', ' sd', ' sd', ' sd', ' no', ' sd', ' qh', ' sd', ' sd', ' qy^d', ' sv', ' sd', ' sd', ' sd', ' no', ' sd', ' o', ' qy^g', ' sd', ' sd', ' sv', ' sv^e', ' na', ' sv', ' sd', ' b', ' fc', ' b', ' na', ' ad', ' fc', ' bf', ' sv^m', ' +', ' cv', ' fc', ' na', ' b', ' sd^t', ' fc', ' cv', ' fc', ' ad', ' qy^d', ' sv', ' +', ' fc', ' qy', ' +']\n"
     ]
    }
   ],
   "source": [
    "print(d1_t3_res)\n",
    "print(d2_t3_res)\n",
    "print(d3_t3_res)"
   ]
  },
  {
   "cell_type": "code",
   "execution_count": 43,
   "metadata": {},
   "outputs": [],
   "source": [
    "dialogue1_res['task3_pred'] = d1_t3_res\n",
    "dialogue2_res['task3_pred'] = d2_t3_res\n",
    "dialogue3_res['task3_pred'] = d3_t3_res"
   ]
  },
  {
   "cell_type": "markdown",
   "metadata": {},
   "source": [
    "## Creative ways to improve performance, \n",
    "\n",
    "generating gpt description of each dialogue act"
   ]
  },
  {
   "cell_type": "code",
   "execution_count": 44,
   "metadata": {},
   "outputs": [],
   "source": [
    "ex_dialogue1 = pd.read_csv('swda\\swda\\sw12utt\\sw_1204_2434.utt.csv')[['caller', 'text', 'act_tag']]\n",
    "ex_dialogue2 = pd.read_csv('swda\\swda\\sw12utt\\sw_1205_2441.utt.csv')[['caller', 'text', 'act_tag']]\n",
    "ex_dialogue3 = pd.read_csv('swda\\swda\\sw12utt\\sw_1206_2461.utt.csv')[['caller', 'text', 'act_tag']]\n"
   ]
  },
  {
   "cell_type": "code",
   "execution_count": 45,
   "metadata": {},
   "outputs": [],
   "source": [
    "def generate_description(dialogue_act):\n",
    "    print(\"generating description for\", dialogue_act)\n",
    "    \n",
    "    prompt = '''\n",
    "    Given a dialogue act tag and a dialogue, generate a conscise, prescise, and informative description of the dialogue act tag.\n",
    "    The dialogue is between two speakers, A and B.\n",
    "    The dialogue is represented in a table. The table has three columns, 'caller', 'text' and 'act_tag'.\n",
    "    Return only the description of the dialogue act tag and nothing more.\n",
    "    Keep your responses to under 25 words.\n",
    "    \n",
    "    Here is the dialogue table:\n",
    "    '''\n",
    "    \n",
    "    dialogue = \"\"\n",
    "    \n",
    "    if dialogue_act in dialogue1_targets.unique():\n",
    "        dialogue = dialogue1.to_string()\n",
    "    elif dialogue_act in dialogue2_targets.unique():\n",
    "        dialogue = dialogue2.to_string()\n",
    "    else:\n",
    "        dialogue = dialogue3.to_string()\n",
    "    \n",
    "    prompt += dialogue\n",
    "    \n",
    "    completion = client.chat.completions.create(\n",
    "        model=\"gpt-4o-mini\",\n",
    "        messages=[\n",
    "            {\"role\": \"system\", \"content\": prompt},\n",
    "            {\"role\": \"user\", \"content\": \"write a description of the dialogue act tag \" + dialogue_act}\n",
    "        ]\n",
    "    )\n",
    "    \n",
    "    return completion.choices[0].message.content"
   ]
  },
  {
   "cell_type": "code",
   "execution_count": 46,
   "metadata": {},
   "outputs": [
    {
     "name": "stdout",
     "output_type": "stream",
     "text": [
      "generating description for o\n",
      "generating description for qw\n",
      "generating description for ^h\n",
      "generating description for sv\n",
      "generating description for qo\n",
      "generating description for sd\n",
      "generating description for b\n",
      "generating description for +\n",
      "generating description for qy\n",
      "generating description for nn\n",
      "generating description for sd^e\n",
      "generating description for bk\n",
      "generating description for %\n",
      "generating description for bf\n",
      "generating description for ny\n",
      "generating description for ny^r\n",
      "generating description for bh\n",
      "generating description for x\n",
      "generating description for ba\n",
      "generating description for b^r\n",
      "generating description for aa\n",
      "generating description for qy^d\n",
      "generating description for na\n",
      "generating description for b^m\n",
      "generating description for h\n",
      "generating description for nd\n",
      "generating description for \"\n",
      "generating description for qh\n",
      "generating description for no\n",
      "generating description for sd^m\n",
      "generating description for ad\n",
      "generating description for sv^e\n",
      "generating description for ng\n",
      "generating description for qy^g\n",
      "generating description for ba^r\n",
      "generating description for ^2\n",
      "generating description for aa^r\n",
      "generating description for sd^t\n",
      "generating description for fc\n",
      "generating description for ft\n"
     ]
    }
   ],
   "source": [
    "tag_descriptions = []\n",
    "for tag in all_tags:\n",
    "    tag_descriptions.append(generate_description(tag))"
   ]
  },
  {
   "cell_type": "code",
   "execution_count": 47,
   "metadata": {},
   "outputs": [
    {
     "name": "stdout",
     "output_type": "stream",
     "text": [
      "[\"The tag 'o' indicates an overview or summary statement, typically encapsulating previous dialogue or thoughts succinctly.\", 'The \"qw\" tag represents a question by the speaker seeking information or clarification from the other participant in the dialogue.', 'The dialogue act tag ^h indicates a hesitation or filler sound used by a speaker while they are thinking or searching for words.', 'The \"sv\" tag indicates a statement that provides information or expresses an opinion.', 'The \"qo\" tag indicates a question posed by a speaker, seeking information or clarification from the other participant.', 'The \"sd\" tag indicates a statement that conveys information or an opinion in the dialogue.', \"The tag 'B' indicates responses that often involve agreement, acknowledgment, or elaboration by the second speaker in a dialogue.\", \"The '+' dialogue act tag indicates a continuation or addition to a previous thought or statement made by the speaker.\", 'The tag \"qy\" indicates a question posed by a speaker, typically seeking information or clarification from the other participant.', 'The \"nn\" dialogue act tag indicates a speaker\\'s non-verbal acknowledgment, often used to show listening or understanding without verbal commitment.', 'The dialogue act tag \"sd^e\" indicates a speaker\\'s expression of doubt or uncertainty, often reflecting a lack of confidence in their statement or information.', 'The \"bk\" tag denotes a backchannel, indicating acknowledgment or encouragement from a speaker, often through brief affirmations or sounds like \"uh-huh.\"', \"The '%' tag indicates the presence of laughter or humorous elements in the dialogue, contributing to a light-hearted or jovial tone.\", 'The \"bf\" tag indicates an expression where the speaker is providing background information or context to the ongoing conversation.', 'The dialogue act tag \"ny\" indicates a speaker\\'s acknowledgment or confirmation, often used to show understanding or agreement during a conversation.', 'The tag \"ny^r\" indicates a clarification or request for more information from the speaker.', 'The \"bh\" tag indicates a back-channel response, often used to confirm understanding or encourage the speaker to continue.', \"The dialogue act tag 'x' indicates an unspecified or unknown action or state in the conversation.\", 'The \"ba\" tag indicates a backchannel response, often used to show listening or acknowledgment without taking the floor.', 'The dialogue act tag \"b^r\" typically indicates a backchannel response, often used to show active listening or encouragement without taking the floor.', 'The \"aa\" tag typically indicates acknowledgment or agreement from the speaker in a dialogue.', 'The dialogue act tag \"qy^d\" indicates a query or question seeking information or clarification from the other speaker.', 'The \"na\" tag indicates that the speaker is unsure or does not have a specific response to the question or topic being discussed.', 'The dialogue act tag \"b^m\" represents an acknowledgment or agreement by the speaker, often indicating understanding or acceptance of what the other speaker has stated.', \"The dialogue act tag 'h' typically indicates an acknowledgement or agreement from the speaker, often prompting further discussion or clarification.\", \"The 'nd' tag indicates a speaker contributing additional information or clarification related to the conversation topic.\", 'The dialogue act tag indicates a request for information or clarification from one speaker to another.', 'The dialogue act tag \"qh\" indicates a question seeking clarification or further information from the other speaker.', 'The \"no\" dialogue act tag represents a speaker\\'s negation or disagreement in response to a preceding statement or inquiry.', \"The dialogue act tag 'sd^m' represents a speaker's attempt to directly express their feelings or opinions on a topic.\", 'The \"ad\" dialogue act tag indicates a speaker is providing an advertisement or recommendation related to the topic of discussion.', 'The dialogue act tag \"sv^e\" indicates a speaker\\'s expression of disagreement or a contrasting opinion within the conversation.', 'The dialogue act tag \"ng\" indicates a speaker expressing disapproval or negation, often in response to a previous statement or suggestion.', \"The dialogue act tag 'qy^g' denotes a question regarding the other's personal interests or preferences, often seeking more information or clarity.\", 'The dialogue act tag \"ba^r\" indicates a backchannel response, typically used to show active listening or acknowledgment without interrupting the speaker.', 'A tag indicating laughter, often expressing amusement or lightheartedness in the conversation.', 'The dialogue act tag \"aa^r\" indicates an acknowledgment response, where the speaker agrees or shows understanding without introducing new information.', 'The dialogue act tag \"sd^t\" indicates a speaker\\'s acknowledgment or agreement with a statement made by another speaker, often reinforcing their shared opinion.', \"The 'fc' tag represents instances of feedback or informal comments made by a speaker to show acknowledgment or engagement in the conversation.\", 'The \"ft\" tag represents a speaker expressing agreement or acknowledgment, indicating their alignment with the previous speaker\\'s statement or sentiment.']\n"
     ]
    }
   ],
   "source": [
    "print(tag_descriptions)"
   ]
  },
  {
   "cell_type": "code",
   "execution_count": 48,
   "metadata": {},
   "outputs": [],
   "source": [
    "# run only once:\n",
    "# pd.DataFrame({\"tag\": all_tags, \"description\": tag_descriptions}).to_csv(\"dialogue_act_tag_descriptions.csv\", index=False)"
   ]
  },
  {
   "cell_type": "code",
   "execution_count": 49,
   "metadata": {},
   "outputs": [],
   "source": [
    "act_tag_descriptions = pd.read_csv(\"dialogue_act_tag_descriptions.csv\")"
   ]
  },
  {
   "cell_type": "code",
   "execution_count": 50,
   "metadata": {},
   "outputs": [],
   "source": [
    "task4_prompt = '''\n",
    "You are are a classifier that identifies dialogue act tags for a given dialouge.\n",
    "The dialogue is between two speakers, A and B.\n",
    "Return only the dialouge acts of speaker A and B in order of appearance.\n",
    "Separate the dialogue acts of speaker A and B with a comma.\n",
    "The user will send a table with the columns 'caller' and 'text'.\n",
    "The caller column will have the values 'A' and 'B' and designates which speaker is speaking.\n",
    "The text column will have the dialogue that speaker 'A' or 'B' is saying.\n",
    "\n",
    "Here are possible dialouge act tags you can choose from followed by their descriptions:\n",
    "'''\n",
    "\n",
    "task4_prompt += act_tag_descriptions.to_string()"
   ]
  },
  {
   "cell_type": "code",
   "execution_count": 51,
   "metadata": {},
   "outputs": [
    {
     "name": "stdout",
     "output_type": "stream",
     "text": [
      "using prompt \n",
      "You are are a classifier that identifies dialogue act tags for a given dialouge.\n",
      "The dialogue is between two speakers, A and B.\n",
      "Return only the dialouge acts of speaker A and B in order of appearance.\n",
      "Separate the dialogue acts of speaker A and B with a comma.\n",
      "The user will send a table with the columns 'caller' and 'text'.\n",
      "The caller column will have the values 'A' and 'B' and designates which speaker is speaking.\n",
      "The text column will have the dialogue that speaker 'A' or 'B' is saying.\n",
      "\n",
      "Here are possible dialouge act tags you can choose from followed by their descriptions:\n",
      "     tag                                                                                                                                                                                description\n",
      "0      o                                                                                                                    The \"O\" tag indicates an off-topic or unrelated remark in the dialogue.\n",
      "1     qw                                                                           The \"qw\" (question) tag indicates that a speaker is asking for information or clarification within the dialogue.\n",
      "2     ^h                                              The dialogue act tag \"^h\" indicates a hesitation or filler, often used to signal uncertainty or the need for time to think before responding.\n",
      "3     sv                                                                 The \"sv\" tag indicates a statement that conveys information, typically asserting or declaring a thought, opinion, or fact.\n",
      "4     qo                                                    The \"qo\" tag indicates a speaker posing a question to elicit information or opinions from the other participant(s) in the conversation.\n",
      "5     sd                                                                       The \"sd\" tag typically denotes a speaker's statement that conveys a subjective opinion or perspective in a dialogue.\n",
      "6      b                                                   The tag 'B' indicates a statement or contribution made by Speaker B, often expressing opinions or providing information in the dialogue.\n",
      "7      +                                                 The dialogue act tag '+' indicates a continuation or addition to a previous statement, often used to elaborate or provide further details.\n",
      "8     qy                                                                                       The \"qy\" tag indicates a speaker is asking a question for clarification or to gain more information.\n",
      "9     nn                                                                      The \"nn\" tag indicates a non-verbal response or acknowledgment, often representing filler sounds or pauses in speech.\n",
      "10  sd^e                                   The dialogue act tag 'sd^e' indicates a speaker expressing an evaluation or opinion, often introducing a personal stance or insight in the conversation.\n",
      "11    bk                                     The tag \"bk\" indicates an acknowledgment or backchannel response, showing the listener's engagement or understanding without taking the turn to speak.\n",
      "12     %                                                                                           The dialogue act tag \"%\" indicates a marker for laughter or humor expressed in the conversation.\n",
      "13    bf                                                    The dialogue act tag \"BF\" indicates a backchannel feedback response, signaling active listening or acknowledgment without interruption.\n",
      "14    ny                                                                                      The tag 'ny' typically indicates a statement expressing agreement or affirmation within the dialogue.\n",
      "15  ny^r                                                                                        The tag 'ny^r' indicates a speaker expressing a response that includes acknowledgment or agreement.\n",
      "16    bh                                The \"bh\" tag indicates a backchannel response, showing the listener's engagement or acknowledgment during a conversation, often through brief affirmations.\n",
      "17     x                                                                          The dialogue act tag 'x' does not appear in the provided dialogue, so there is no specific description available.\n",
      "18    ba                                The \"ba\" tag denotes a backchannel acknowledgment, indicating that the listener is engaged and following the conversation without interrupting the speaker.\n",
      "19   b^r                                                                                The dialogue act tag b^r indicates a request for clarification or confirmation from one speaker to another.\n",
      "20    aa                                             The \"AA\" tag represents an acknowledgment or agreement in the conversation, often indicating understanding or acceptance of a prior statement.\n",
      "21  qy^d                                                            The dialogue act tag \"qy^d\" indicates a request for clarification or additional information about a previously mentioned topic.\n",
      "22    na                               The \"na\" tag indicates that the dialogue contains non-authoritative or ambiguous statements, often reflecting uncertainty or lack of definitive information.\n",
      "23   b^m                The tag b^m indicates a backchannel marker, signifying the listener's engagement or acknowledgment during the speaker's turn without interrupting the flow of conversation.\n",
      "24     h                                                                                  The dialogue act tag 'h' typically signifies a humorous or light-hearted utterance within a conversation.\n",
      "25    nd                                                                               The 'nd' tag indicates a speaker agreeing or expressing understanding with the previous speaker's statement.\n",
      "26     \"                                                                        It appears the tag is incomplete or missing. Please provide the correct dialogue act tag for a precise description.\n",
      "27    qh                                                                                                                        A question to gather information or clarity from the other speaker.\n",
      "28    no                                                              The \"no\" dialogue act tag indicates a clear rejection or disagreement with a statement or suggestion made by another speaker.\n",
      "29  sd^m                                                                     The dialogue act tag 'sd^m' indicates a statement that adds more detail or provides clarification in the conversation.\n",
      "30    ad                                                                                               The \"ad\" tag indicates an advertisement or a promotional statement made during the dialogue.\n",
      "31  sv^e                                                              The dialogue act tag \"sv^e\" denotes a supportive expression that acknowledges and reinforces a point made by another speaker.\n",
      "32    ng                                                                The \"ng\" tag indicates that a speaker is expressing hesitation or uncertainty, often through pauses or incomplete thoughts.\n",
      "33  qy^g                                                               The tag \"qy^g\" typically indicates a speaker is asking a question to gather information or clarifications in a conversation.\n",
      "34  ba^r                                                             The tag \"ba^r\" indicates a backchannel response, typically used to show active listening or encourage the speaker to continue.\n",
      "35    ^2                                                                                            The dialogue act tag refers to laughter, indicating humor or amusement within the conversation.\n",
      "36  aa^r  The dialogue act tag \"aa^r\" typically denotes an acknowledgment or response where one speaker acknowledges the other’s statement or inquiry, often indicating understanding or agreement.\n",
      "37  sd^t                                                The \"sd^t\" tag indicates a speaker's statement that provides a direct opinion or thought about a topic, often reflecting on the discussion.\n",
      "38    fc                                                                               The dialogue act tag 'FC' signifies a speaker's expression of agreement or confirmation in the conversation.\n",
      "39    ft                                                                 The 'ft' tag indicates a speaker expressing a filled pause or hesitation, often marked by vocalizations like \"uh\" or \"um.\"\n",
      "generating for dialogue 1\n",
      "generating for dialogue 2\n",
      "generating for dialogue 3\n",
      "curr len 320\n",
      "curr len 315\n",
      "curr len 86\n"
     ]
    }
   ],
   "source": [
    "d1_t4_res, d2_t4_res, d3_t4_res = test_prompt(task4_prompt)"
   ]
  },
  {
   "cell_type": "code",
   "execution_count": 52,
   "metadata": {},
   "outputs": [],
   "source": [
    "dialogue1_res['task4_pred'] = d1_t4_res\n",
    "dialogue2_res['task4_pred'] = d2_t4_res\n",
    "dialogue3_res['task4_pred'] = d3_t4_res"
   ]
  },
  {
   "cell_type": "markdown",
   "metadata": {},
   "source": [
    "## Analyze Results"
   ]
  },
  {
   "cell_type": "code",
   "execution_count": 53,
   "metadata": {},
   "outputs": [],
   "source": [
    "dialogue1_res.to_csv('dialogue1_results.csv', index=False)\n",
    "dialogue2_res.to_csv('dialogue2_results.csv', index=False)\n",
    "dialogue3_res.to_csv('dialogue3_results.csv', index=False)"
   ]
  },
  {
   "cell_type": "code",
   "execution_count": 54,
   "metadata": {},
   "outputs": [],
   "source": [
    "def calculate_match_percentage(df, col1, col2):\n",
    "    \"\"\"\n",
    "    Calculate the percentage of matching values between two columns in a DataFrame.\n",
    "\n",
    "    Parameters:\n",
    "    df (pd.DataFrame): The DataFrame containing the columns to compare.\n",
    "    col1 (str): The name of the first column.\n",
    "    col2 (str): The name of the second column.\n",
    "\n",
    "    Returns:\n",
    "    float: The percentage of matching values between the two columns.\n",
    "    \"\"\"\n",
    "    if col1 not in df.columns or col2 not in df.columns:\n",
    "        raise ValueError(\"One or both columns are not in the DataFrame\")\n",
    "\n",
    "    total_rows = len(df)\n",
    "    if total_rows == 0:\n",
    "        return 0.0\n",
    "\n",
    "    matches = df[col1] == df[col2]\n",
    "    match_count = matches.sum()\n",
    "\n",
    "    return (match_count / total_rows) * 100\n"
   ]
  },
  {
   "cell_type": "code",
   "execution_count": 55,
   "metadata": {},
   "outputs": [
    {
     "name": "stdout",
     "output_type": "stream",
     "text": [
      "    caller                                               text act_tag  \\\n",
      "0        B                                            Okay. /       o   \n",
      "1        A                                            Okay. /     b^m   \n",
      "2        B  {D Well } what do you think about the idea of,...      qw   \n",
      "3        B                Do you think it's a <breathing>, -/      qy   \n",
      "4        A  {D Well, } [ I, + I  ] think it's a pretty goo...      sv   \n",
      "..     ...                                                ...     ...   \n",
      "97       A                                   enjoy the day. /       +   \n",
      "98       B                                        You, too. /      fc   \n",
      "99       A                               Thank you, ma'am.  /      ft   \n",
      "100      A                                         Bye-bye. /      fc   \n",
      "101      B                                         Bye-bye. /      fc   \n",
      "\n",
      "    task1_pred task2_pred task3_pred task4_pred  \n",
      "0        Okay.          o         qw         sv  \n",
      "1        Okay.          o          b          o  \n",
      "2     Question         qw       qy^d         qw  \n",
      "3     Question         qw         qy         qy  \n",
      "4      Opinion         sv         ny         sd  \n",
      "..         ...        ...        ...        ...  \n",
      "97                     sv         sv             \n",
      "98                      a          +             \n",
      "99                     sd         fc             \n",
      "100                    qh         qy             \n",
      "101                     o          +             \n",
      "\n",
      "[102 rows x 7 columns]\n"
     ]
    }
   ],
   "source": [
    "print(dialogue3_res)"
   ]
  },
  {
   "cell_type": "code",
   "execution_count": 56,
   "metadata": {},
   "outputs": [
    {
     "name": "stdout",
     "output_type": "stream",
     "text": [
      "Task 1 Match Percentage:\n",
      "0.0\n",
      "0.0\n",
      "0.0\n",
      "\\n[-^10]\\n\n",
      "Task 2 Match Percentage:\n",
      "0.39215686274509803\n",
      "0.0\n",
      "0.9803921568627451\n",
      "Task 3 Match Percentage:\n",
      "0.0\n",
      "0.25773195876288657\n",
      "0.0\n",
      "Task 4 Match Percentage:\n",
      "0.0\n",
      "0.0\n",
      "0.0\n"
     ]
    }
   ],
   "source": [
    "print(\"Task 1 Match Percentage:\")\n",
    "print(calculate_match_percentage(dialogue1_res, 'act_tag', 'task1_pred'))\n",
    "print(calculate_match_percentage(dialogue2_res, 'act_tag', 'task1_pred'))\n",
    "print(calculate_match_percentage(dialogue3_res, 'act_tag', 'task1_pred'))\n",
    "\n",
    "print(r\"\\n[-^10]\\n\")\n",
    "\n",
    "print(\"Task 2 Match Percentage:\")\n",
    "print(calculate_match_percentage(dialogue1_res, 'act_tag', 'task2_pred'))\n",
    "print(calculate_match_percentage(dialogue2_res, 'act_tag', 'task2_pred'))\n",
    "print(calculate_match_percentage(dialogue3_res, 'act_tag', 'task2_pred'))\n",
    "\n",
    "print(\"Task 3 Match Percentage:\")\n",
    "print(calculate_match_percentage(dialogue1_res, 'act_tag', 'task3_pred'))\n",
    "print(calculate_match_percentage(dialogue2_res, 'act_tag', 'task3_pred'))\n",
    "print(calculate_match_percentage(dialogue3_res, 'act_tag', 'task3_pred'))\n",
    "\n",
    "print(\"Task 4 Match Percentage:\")\n",
    "print(calculate_match_percentage(dialogue1_res, 'act_tag', 'task4_pred'))\n",
    "print(calculate_match_percentage(dialogue2_res, 'act_tag', 'task4_pred'))\n",
    "print(calculate_match_percentage(dialogue3_res, 'act_tag', 'task4_pred'))"
   ]
  }
 ],
 "metadata": {
  "kernelspec": {
   "display_name": "venv",
   "language": "python",
   "name": "python3"
  },
  "language_info": {
   "codemirror_mode": {
    "name": "ipython",
    "version": 3
   },
   "file_extension": ".py",
   "mimetype": "text/x-python",
   "name": "python",
   "nbconvert_exporter": "python",
   "pygments_lexer": "ipython3",
   "version": "3.8.10"
  }
 },
 "nbformat": 4,
 "nbformat_minor": 2
}
